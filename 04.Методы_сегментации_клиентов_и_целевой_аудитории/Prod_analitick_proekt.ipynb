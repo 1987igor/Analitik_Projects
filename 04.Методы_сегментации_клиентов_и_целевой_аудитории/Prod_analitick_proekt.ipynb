{
 "cells": [
  {
   "cell_type": "code",
   "execution_count": 1,
   "metadata": {},
   "outputs": [],
   "source": [
    "import pandas as pd"
   ]
  },
  {
   "cell_type": "code",
   "execution_count": 2,
   "metadata": {},
   "outputs": [
    {
     "name": "stderr",
     "output_type": "stream",
     "text": [
      "/opt/tljh/user/lib/python3.7/site-packages/IPython/core/interactiveshell.py:3063: DtypeWarning: Columns (1) have mixed types.Specify dtype option on import or set low_memory=False.\n",
      "  interactivity=interactivity, compiler=compiler, result=result)\n"
     ]
    },
    {
     "data": {
      "text/html": [
       "<div>\n",
       "<style scoped>\n",
       "    .dataframe tbody tr th:only-of-type {\n",
       "        vertical-align: middle;\n",
       "    }\n",
       "\n",
       "    .dataframe tbody tr th {\n",
       "        vertical-align: top;\n",
       "    }\n",
       "\n",
       "    .dataframe thead th {\n",
       "        text-align: right;\n",
       "    }\n",
       "</style>\n",
       "<table border=\"1\" class=\"dataframe\">\n",
       "  <thead>\n",
       "    <tr style=\"text-align: right;\">\n",
       "      <th></th>\n",
       "      <th>InvoiceNo</th>\n",
       "      <th>CustomerCode</th>\n",
       "      <th>InvoiceDate</th>\n",
       "      <th>Amount</th>\n",
       "    </tr>\n",
       "  </thead>\n",
       "  <tbody>\n",
       "    <tr>\n",
       "      <th>0</th>\n",
       "      <td>C0011810010001</td>\n",
       "      <td>19067290</td>\n",
       "      <td>2020-09-01</td>\n",
       "      <td>1716.00</td>\n",
       "    </tr>\n",
       "    <tr>\n",
       "      <th>1</th>\n",
       "      <td>C0011810010017</td>\n",
       "      <td>13233933</td>\n",
       "      <td>2020-09-01</td>\n",
       "      <td>1489.74</td>\n",
       "    </tr>\n",
       "    <tr>\n",
       "      <th>2</th>\n",
       "      <td>C0011810010020</td>\n",
       "      <td>99057968</td>\n",
       "      <td>2020-09-01</td>\n",
       "      <td>151.47</td>\n",
       "    </tr>\n",
       "    <tr>\n",
       "      <th>3</th>\n",
       "      <td>C0011810010021</td>\n",
       "      <td>80007276</td>\n",
       "      <td>2020-09-01</td>\n",
       "      <td>146.72</td>\n",
       "    </tr>\n",
       "    <tr>\n",
       "      <th>4</th>\n",
       "      <td>C0011810010024</td>\n",
       "      <td>13164076</td>\n",
       "      <td>2020-09-01</td>\n",
       "      <td>104.00</td>\n",
       "    </tr>\n",
       "    <tr>\n",
       "      <th>...</th>\n",
       "      <td>...</td>\n",
       "      <td>...</td>\n",
       "      <td>...</td>\n",
       "      <td>...</td>\n",
       "    </tr>\n",
       "    <tr>\n",
       "      <th>332725</th>\n",
       "      <td>S0081810310459</td>\n",
       "      <td>14092500</td>\n",
       "      <td>2020-09-30</td>\n",
       "      <td>3801.87</td>\n",
       "    </tr>\n",
       "    <tr>\n",
       "      <th>332726</th>\n",
       "      <td>S0081810310461</td>\n",
       "      <td>99065678</td>\n",
       "      <td>2020-09-30</td>\n",
       "      <td>5769.88</td>\n",
       "    </tr>\n",
       "    <tr>\n",
       "      <th>332727</th>\n",
       "      <td>S0081810310462</td>\n",
       "      <td>19029918</td>\n",
       "      <td>2020-09-30</td>\n",
       "      <td>736.88</td>\n",
       "    </tr>\n",
       "    <tr>\n",
       "      <th>332728</th>\n",
       "      <td>S0081810310463</td>\n",
       "      <td>13020033</td>\n",
       "      <td>2020-09-30</td>\n",
       "      <td>1475.20</td>\n",
       "    </tr>\n",
       "    <tr>\n",
       "      <th>332729</th>\n",
       "      <td>S0081810310466</td>\n",
       "      <td>13046679</td>\n",
       "      <td>2020-09-30</td>\n",
       "      <td>709.56</td>\n",
       "    </tr>\n",
       "  </tbody>\n",
       "</table>\n",
       "<p>332730 rows × 4 columns</p>\n",
       "</div>"
      ],
      "text/plain": [
       "             InvoiceNo CustomerCode InvoiceDate   Amount\n",
       "0       C0011810010001     19067290  2020-09-01  1716.00\n",
       "1       C0011810010017     13233933  2020-09-01  1489.74\n",
       "2       C0011810010020     99057968  2020-09-01   151.47\n",
       "3       C0011810010021     80007276  2020-09-01   146.72\n",
       "4       C0011810010024     13164076  2020-09-01   104.00\n",
       "...                ...          ...         ...      ...\n",
       "332725  S0081810310459     14092500  2020-09-30  3801.87\n",
       "332726  S0081810310461     99065678  2020-09-30  5769.88\n",
       "332727  S0081810310462     19029918  2020-09-30   736.88\n",
       "332728  S0081810310463     13020033  2020-09-30  1475.20\n",
       "332729  S0081810310466     13046679  2020-09-30   709.56\n",
       "\n",
       "[332730 rows x 4 columns]"
      ]
     },
     "execution_count": 2,
     "metadata": {},
     "output_type": "execute_result"
    }
   ],
   "source": [
    "file_path = '/mnt/HC_Volume_18315164/home-jupyter/jupyter-i-petrov/Prod_analitick/4_ypok/RFM_ht_data.csv'\n",
    "df = pd.read_csv(file_path, sep=\",\", parse_dates=['InvoiceDate'])\n",
    "df"
   ]
  },
  {
   "cell_type": "markdown",
   "metadata": {},
   "source": [
    "Скачайте датасет и проведите RFM анализ. В каждом подсегменте поделите пользователей на 4 класса (как на занятии). Отсчитывайте количество дней, прошедших с момента последней покупки, с максимальной даты покупки в датасете.\n",
    "\n",
    "Какое максимальное кол-во покупок было совершено одним пользователем?\n",
    "\n",
    "Какая верхняя граница у суммы покупок у пользователей с классом 4 в подсегменте М? (Другими словами: пользователи,\n",
    "у которых сумма покупок от 0 до Х попадают в 4 класс в подсегменте М)\n",
    "\n",
    "Какая нижняя граница у количества покупок у пользователей с классом 1 в подсегменте F?\n",
    "\n",
    "Какая верхняя граница у количества покупок у пользователей с классом 2 в подсегменте R?\n",
    "\n",
    "Сколько пользователей попало в сегмент 111?\n",
    "\n",
    "Сколько пользователей попало в сегмент 311?\n",
    "\n",
    "В каком RFM-сегменте самое большое кол-во пользователей?\n",
    "\n",
    "В каком RFM-сегменте самое маленькое кол-во пользователей?\n",
    "\n",
    "Какое количество пользователей попало в самый малочисленный сегмент?\n"
   ]
  },
  {
   "cell_type": "markdown",
   "metadata": {},
   "source": [
    "2.Какое максимальное кол-во покупок было совершено одним пользователем?"
   ]
  },
  {
   "cell_type": "code",
   "execution_count": 3,
   "metadata": {},
   "outputs": [],
   "source": [
    "#total_rows['ColumnID'] = total_rows['ColumnID'].astype(str)"
   ]
  },
  {
   "cell_type": "code",
   "execution_count": 4,
   "metadata": {},
   "outputs": [
    {
     "name": "stdout",
     "output_type": "stream",
     "text": [
      "<class 'pandas.core.frame.DataFrame'>\n",
      "RangeIndex: 332730 entries, 0 to 332729\n",
      "Data columns (total 4 columns):\n",
      " #   Column        Non-Null Count   Dtype         \n",
      "---  ------        --------------   -----         \n",
      " 0   InvoiceNo     332730 non-null  object        \n",
      " 1   CustomerCode  332730 non-null  object        \n",
      " 2   InvoiceDate   332730 non-null  datetime64[ns]\n",
      " 3   Amount        332730 non-null  float64       \n",
      "dtypes: datetime64[ns](1), float64(1), object(2)\n",
      "memory usage: 10.2+ MB\n"
     ]
    }
   ],
   "source": [
    "df.info()"
   ]
  },
  {
   "cell_type": "code",
   "execution_count": 5,
   "metadata": {},
   "outputs": [
    {
     "data": {
      "text/html": [
       "<div>\n",
       "<style scoped>\n",
       "    .dataframe tbody tr th:only-of-type {\n",
       "        vertical-align: middle;\n",
       "    }\n",
       "\n",
       "    .dataframe tbody tr th {\n",
       "        vertical-align: top;\n",
       "    }\n",
       "\n",
       "    .dataframe thead th {\n",
       "        text-align: right;\n",
       "    }\n",
       "</style>\n",
       "<table border=\"1\" class=\"dataframe\">\n",
       "  <thead>\n",
       "    <tr style=\"text-align: right;\">\n",
       "      <th></th>\n",
       "      <th>Amount</th>\n",
       "    </tr>\n",
       "  </thead>\n",
       "  <tbody>\n",
       "    <tr>\n",
       "      <th>count</th>\n",
       "      <td>332730.000000</td>\n",
       "    </tr>\n",
       "    <tr>\n",
       "      <th>mean</th>\n",
       "      <td>1239.029737</td>\n",
       "    </tr>\n",
       "    <tr>\n",
       "      <th>std</th>\n",
       "      <td>1747.362217</td>\n",
       "    </tr>\n",
       "    <tr>\n",
       "      <th>min</th>\n",
       "      <td>-8925.000000</td>\n",
       "    </tr>\n",
       "    <tr>\n",
       "      <th>25%</th>\n",
       "      <td>350.000000</td>\n",
       "    </tr>\n",
       "    <tr>\n",
       "      <th>50%</th>\n",
       "      <td>720.445000</td>\n",
       "    </tr>\n",
       "    <tr>\n",
       "      <th>75%</th>\n",
       "      <td>1491.507500</td>\n",
       "    </tr>\n",
       "    <tr>\n",
       "      <th>max</th>\n",
       "      <td>131874.000000</td>\n",
       "    </tr>\n",
       "  </tbody>\n",
       "</table>\n",
       "</div>"
      ],
      "text/plain": [
       "              Amount\n",
       "count  332730.000000\n",
       "mean     1239.029737\n",
       "std      1747.362217\n",
       "min     -8925.000000\n",
       "25%       350.000000\n",
       "50%       720.445000\n",
       "75%      1491.507500\n",
       "max    131874.000000"
      ]
     },
     "execution_count": 5,
     "metadata": {},
     "output_type": "execute_result"
    }
   ],
   "source": [
    "df.describe()"
   ]
  },
  {
   "cell_type": "code",
   "execution_count": 6,
   "metadata": {},
   "outputs": [],
   "source": [
    "#res = df.groupby(\"ID\").filter(lambda x: x[\"Country\"].nunique() > 1)[\"ID\"].nunique()"
   ]
  },
  {
   "cell_type": "code",
   "execution_count": 7,
   "metadata": {},
   "outputs": [],
   "source": [
    "df1=df"
   ]
  },
  {
   "cell_type": "code",
   "execution_count": 8,
   "metadata": {},
   "outputs": [],
   "source": [
    "df1['CustomerCode'] = df1['CustomerCode'].astype(str)"
   ]
  },
  {
   "cell_type": "code",
   "execution_count": 12,
   "metadata": {},
   "outputs": [],
   "source": [
    "#df['InvoiceDate']=pd.to_datetime(df['InvoiceDate'])\n",
    "df['CustomerCode']=df['CustomerCode'].astype(str)\n",
    "df['InvoiceNo']=df['InvoiceNo'].astype(str)"
   ]
  },
  {
   "cell_type": "code",
   "execution_count": null,
   "metadata": {},
   "outputs": [],
   "source": []
  },
  {
   "cell_type": "code",
   "execution_count": 9,
   "metadata": {},
   "outputs": [],
   "source": [
    "#strangers = df[['InvoiceNo', 'CustomerCode', 'Amount']]\n",
    "#strangers.groupby('InvoiceNo')['CustomerCode']\n",
    "#strangers.nunique()"
   ]
  },
  {
   "cell_type": "code",
   "execution_count": 14,
   "metadata": {},
   "outputs": [],
   "source": [
    "last_date=df1['InvoiceDate'].max()"
   ]
  },
  {
   "cell_type": "code",
   "execution_count": 17,
   "metadata": {},
   "outputs": [
    {
     "data": {
      "text/plain": [
       "Timestamp('2020-09-30 00:00:00')"
      ]
     },
     "execution_count": 17,
     "metadata": {},
     "output_type": "execute_result"
    }
   ],
   "source": [
    "last_date"
   ]
  },
  {
   "cell_type": "code",
   "execution_count": 18,
   "metadata": {},
   "outputs": [
    {
     "data": {
      "text/html": [
       "<div>\n",
       "<style scoped>\n",
       "    .dataframe tbody tr th:only-of-type {\n",
       "        vertical-align: middle;\n",
       "    }\n",
       "\n",
       "    .dataframe tbody tr th {\n",
       "        vertical-align: top;\n",
       "    }\n",
       "\n",
       "    .dataframe thead th {\n",
       "        text-align: right;\n",
       "    }\n",
       "</style>\n",
       "<table border=\"1\" class=\"dataframe\">\n",
       "  <thead>\n",
       "    <tr style=\"text-align: right;\">\n",
       "      <th></th>\n",
       "      <th>InvoiceNo</th>\n",
       "      <th>CustomerCode</th>\n",
       "      <th>InvoiceDate</th>\n",
       "      <th>Amount</th>\n",
       "    </tr>\n",
       "  </thead>\n",
       "  <tbody>\n",
       "    <tr>\n",
       "      <th>0</th>\n",
       "      <td>C0011810010001</td>\n",
       "      <td>19067290</td>\n",
       "      <td>2020-09-01</td>\n",
       "      <td>1716.00</td>\n",
       "    </tr>\n",
       "    <tr>\n",
       "      <th>1</th>\n",
       "      <td>C0011810010017</td>\n",
       "      <td>13233933</td>\n",
       "      <td>2020-09-01</td>\n",
       "      <td>1489.74</td>\n",
       "    </tr>\n",
       "    <tr>\n",
       "      <th>2</th>\n",
       "      <td>C0011810010020</td>\n",
       "      <td>99057968</td>\n",
       "      <td>2020-09-01</td>\n",
       "      <td>151.47</td>\n",
       "    </tr>\n",
       "    <tr>\n",
       "      <th>3</th>\n",
       "      <td>C0011810010021</td>\n",
       "      <td>80007276</td>\n",
       "      <td>2020-09-01</td>\n",
       "      <td>146.72</td>\n",
       "    </tr>\n",
       "    <tr>\n",
       "      <th>4</th>\n",
       "      <td>C0011810010024</td>\n",
       "      <td>13164076</td>\n",
       "      <td>2020-09-01</td>\n",
       "      <td>104.00</td>\n",
       "    </tr>\n",
       "    <tr>\n",
       "      <th>...</th>\n",
       "      <td>...</td>\n",
       "      <td>...</td>\n",
       "      <td>...</td>\n",
       "      <td>...</td>\n",
       "    </tr>\n",
       "    <tr>\n",
       "      <th>332725</th>\n",
       "      <td>S0081810310459</td>\n",
       "      <td>14092500</td>\n",
       "      <td>2020-09-30</td>\n",
       "      <td>3801.87</td>\n",
       "    </tr>\n",
       "    <tr>\n",
       "      <th>332726</th>\n",
       "      <td>S0081810310461</td>\n",
       "      <td>99065678</td>\n",
       "      <td>2020-09-30</td>\n",
       "      <td>5769.88</td>\n",
       "    </tr>\n",
       "    <tr>\n",
       "      <th>332727</th>\n",
       "      <td>S0081810310462</td>\n",
       "      <td>19029918</td>\n",
       "      <td>2020-09-30</td>\n",
       "      <td>736.88</td>\n",
       "    </tr>\n",
       "    <tr>\n",
       "      <th>332728</th>\n",
       "      <td>S0081810310463</td>\n",
       "      <td>13020033</td>\n",
       "      <td>2020-09-30</td>\n",
       "      <td>1475.20</td>\n",
       "    </tr>\n",
       "    <tr>\n",
       "      <th>332729</th>\n",
       "      <td>S0081810310466</td>\n",
       "      <td>13046679</td>\n",
       "      <td>2020-09-30</td>\n",
       "      <td>709.56</td>\n",
       "    </tr>\n",
       "  </tbody>\n",
       "</table>\n",
       "<p>332730 rows × 4 columns</p>\n",
       "</div>"
      ],
      "text/plain": [
       "             InvoiceNo CustomerCode InvoiceDate   Amount\n",
       "0       C0011810010001     19067290  2020-09-01  1716.00\n",
       "1       C0011810010017     13233933  2020-09-01  1489.74\n",
       "2       C0011810010020     99057968  2020-09-01   151.47\n",
       "3       C0011810010021     80007276  2020-09-01   146.72\n",
       "4       C0011810010024     13164076  2020-09-01   104.00\n",
       "...                ...          ...         ...      ...\n",
       "332725  S0081810310459     14092500  2020-09-30  3801.87\n",
       "332726  S0081810310461     99065678  2020-09-30  5769.88\n",
       "332727  S0081810310462     19029918  2020-09-30   736.88\n",
       "332728  S0081810310463     13020033  2020-09-30  1475.20\n",
       "332729  S0081810310466     13046679  2020-09-30   709.56\n",
       "\n",
       "[332730 rows x 4 columns]"
      ]
     },
     "execution_count": 18,
     "metadata": {},
     "output_type": "execute_result"
    }
   ],
   "source": [
    "df1"
   ]
  },
  {
   "cell_type": "code",
   "execution_count": 19,
   "metadata": {},
   "outputs": [
    {
     "data": {
      "text/html": [
       "<div>\n",
       "<style scoped>\n",
       "    .dataframe tbody tr th:only-of-type {\n",
       "        vertical-align: middle;\n",
       "    }\n",
       "\n",
       "    .dataframe tbody tr th {\n",
       "        vertical-align: top;\n",
       "    }\n",
       "\n",
       "    .dataframe thead th {\n",
       "        text-align: right;\n",
       "    }\n",
       "</style>\n",
       "<table border=\"1\" class=\"dataframe\">\n",
       "  <thead>\n",
       "    <tr style=\"text-align: right;\">\n",
       "      <th></th>\n",
       "      <th>InvoiceNo</th>\n",
       "    </tr>\n",
       "    <tr>\n",
       "      <th>CustomerCode</th>\n",
       "      <th></th>\n",
       "    </tr>\n",
       "  </thead>\n",
       "  <tbody>\n",
       "    <tr>\n",
       "      <th>19057820</th>\n",
       "      <td>204</td>\n",
       "    </tr>\n",
       "    <tr>\n",
       "      <th>13215452</th>\n",
       "      <td>113</td>\n",
       "    </tr>\n",
       "    <tr>\n",
       "      <th>13032521</th>\n",
       "      <td>106</td>\n",
       "    </tr>\n",
       "    <tr>\n",
       "      <th>19080880</th>\n",
       "      <td>99</td>\n",
       "    </tr>\n",
       "    <tr>\n",
       "      <th>99003061</th>\n",
       "      <td>90</td>\n",
       "    </tr>\n",
       "  </tbody>\n",
       "</table>\n",
       "</div>"
      ],
      "text/plain": [
       "              InvoiceNo\n",
       "CustomerCode           \n",
       "19057820            204\n",
       "13215452            113\n",
       "13032521            106\n",
       "19080880             99\n",
       "99003061             90"
      ]
     },
     "execution_count": 19,
     "metadata": {},
     "output_type": "execute_result"
    }
   ],
   "source": [
    "# Какое максимальное кол-во покупок было совершено одним пользователем?\n",
    "\n",
    "df1.groupby('CustomerCode').agg({'InvoiceNo':'count'}).sort_values('InvoiceNo', ascending=False).head()"
   ]
  },
  {
   "cell_type": "code",
   "execution_count": 13,
   "metadata": {},
   "outputs": [
    {
     "data": {
      "text/plain": [
       "204"
      ]
     },
     "execution_count": 13,
     "metadata": {},
     "output_type": "execute_result"
    }
   ],
   "source": [
    "df1.groupby('CustomerCode').InvoiceNo.count().max()"
   ]
  },
  {
   "cell_type": "code",
   "execution_count": 11,
   "metadata": {},
   "outputs": [
    {
     "name": "stdout",
     "output_type": "stream",
     "text": [
      "<class 'pandas.core.frame.DataFrame'>\n",
      "RangeIndex: 332730 entries, 0 to 332729\n",
      "Data columns (total 4 columns):\n",
      " #   Column        Non-Null Count   Dtype         \n",
      "---  ------        --------------   -----         \n",
      " 0   InvoiceNo     332730 non-null  object        \n",
      " 1   CustomerCode  332730 non-null  object        \n",
      " 2   InvoiceDate   332730 non-null  datetime64[ns]\n",
      " 3   Amount        332730 non-null  float64       \n",
      "dtypes: datetime64[ns](1), float64(1), object(2)\n",
      "memory usage: 10.2+ MB\n"
     ]
    }
   ],
   "source": [
    "df1.info()"
   ]
  },
  {
   "cell_type": "markdown",
   "metadata": {},
   "source": [
    "3.Какая верхняя граница у суммы покупок у пользователей с классом 4 в подсегменте М? (Другими словами: пользователи, у которых сумма покупок от 0 до Х попадают в 4 класс в подсегменте М)"
   ]
  },
  {
   "cell_type": "code",
   "execution_count": 20,
   "metadata": {},
   "outputs": [],
   "source": [
    "import pandas as pd"
   ]
  },
  {
   "cell_type": "code",
   "execution_count": 22,
   "metadata": {},
   "outputs": [
    {
     "data": {
      "text/html": [
       "<div>\n",
       "<style scoped>\n",
       "    .dataframe tbody tr th:only-of-type {\n",
       "        vertical-align: middle;\n",
       "    }\n",
       "\n",
       "    .dataframe tbody tr th {\n",
       "        vertical-align: top;\n",
       "    }\n",
       "\n",
       "    .dataframe thead th {\n",
       "        text-align: right;\n",
       "    }\n",
       "</style>\n",
       "<table border=\"1\" class=\"dataframe\">\n",
       "  <thead>\n",
       "    <tr style=\"text-align: right;\">\n",
       "      <th></th>\n",
       "      <th>InvoiceNo</th>\n",
       "      <th>CustomerCode</th>\n",
       "      <th>InvoiceDate</th>\n",
       "      <th>Amount</th>\n",
       "    </tr>\n",
       "  </thead>\n",
       "  <tbody>\n",
       "    <tr>\n",
       "      <th>0</th>\n",
       "      <td>C0011810010001</td>\n",
       "      <td>19067290</td>\n",
       "      <td>2020-09-01</td>\n",
       "      <td>1716.00</td>\n",
       "    </tr>\n",
       "    <tr>\n",
       "      <th>1</th>\n",
       "      <td>C0011810010017</td>\n",
       "      <td>13233933</td>\n",
       "      <td>2020-09-01</td>\n",
       "      <td>1489.74</td>\n",
       "    </tr>\n",
       "    <tr>\n",
       "      <th>2</th>\n",
       "      <td>C0011810010020</td>\n",
       "      <td>99057968</td>\n",
       "      <td>2020-09-01</td>\n",
       "      <td>151.47</td>\n",
       "    </tr>\n",
       "    <tr>\n",
       "      <th>3</th>\n",
       "      <td>C0011810010021</td>\n",
       "      <td>80007276</td>\n",
       "      <td>2020-09-01</td>\n",
       "      <td>146.72</td>\n",
       "    </tr>\n",
       "    <tr>\n",
       "      <th>4</th>\n",
       "      <td>C0011810010024</td>\n",
       "      <td>13164076</td>\n",
       "      <td>2020-09-01</td>\n",
       "      <td>104.00</td>\n",
       "    </tr>\n",
       "    <tr>\n",
       "      <th>...</th>\n",
       "      <td>...</td>\n",
       "      <td>...</td>\n",
       "      <td>...</td>\n",
       "      <td>...</td>\n",
       "    </tr>\n",
       "    <tr>\n",
       "      <th>332725</th>\n",
       "      <td>S0081810310459</td>\n",
       "      <td>14092500</td>\n",
       "      <td>2020-09-30</td>\n",
       "      <td>3801.87</td>\n",
       "    </tr>\n",
       "    <tr>\n",
       "      <th>332726</th>\n",
       "      <td>S0081810310461</td>\n",
       "      <td>99065678</td>\n",
       "      <td>2020-09-30</td>\n",
       "      <td>5769.88</td>\n",
       "    </tr>\n",
       "    <tr>\n",
       "      <th>332727</th>\n",
       "      <td>S0081810310462</td>\n",
       "      <td>19029918</td>\n",
       "      <td>2020-09-30</td>\n",
       "      <td>736.88</td>\n",
       "    </tr>\n",
       "    <tr>\n",
       "      <th>332728</th>\n",
       "      <td>S0081810310463</td>\n",
       "      <td>13020033</td>\n",
       "      <td>2020-09-30</td>\n",
       "      <td>1475.20</td>\n",
       "    </tr>\n",
       "    <tr>\n",
       "      <th>332729</th>\n",
       "      <td>S0081810310466</td>\n",
       "      <td>13046679</td>\n",
       "      <td>2020-09-30</td>\n",
       "      <td>709.56</td>\n",
       "    </tr>\n",
       "  </tbody>\n",
       "</table>\n",
       "<p>332730 rows × 4 columns</p>\n",
       "</div>"
      ],
      "text/plain": [
       "             InvoiceNo CustomerCode InvoiceDate   Amount\n",
       "0       C0011810010001     19067290  2020-09-01  1716.00\n",
       "1       C0011810010017     13233933  2020-09-01  1489.74\n",
       "2       C0011810010020     99057968  2020-09-01   151.47\n",
       "3       C0011810010021     80007276  2020-09-01   146.72\n",
       "4       C0011810010024     13164076  2020-09-01   104.00\n",
       "...                ...          ...         ...      ...\n",
       "332725  S0081810310459     14092500  2020-09-30  3801.87\n",
       "332726  S0081810310461     99065678  2020-09-30  5769.88\n",
       "332727  S0081810310462     19029918  2020-09-30   736.88\n",
       "332728  S0081810310463     13020033  2020-09-30  1475.20\n",
       "332729  S0081810310466     13046679  2020-09-30   709.56\n",
       "\n",
       "[332730 rows x 4 columns]"
      ]
     },
     "execution_count": 22,
     "metadata": {},
     "output_type": "execute_result"
    }
   ],
   "source": [
    "file_path = '/mnt/HC_Volume_18315164/home-jupyter/jupyter-i-petrov/Prod_analitick/4_ypok/RFM_ht_data.csv'\n",
    "df = pd.read_csv(file_path, sep=\",\", low_memory=False, parse_dates=['InvoiceDate'])\n",
    "df"
   ]
  },
  {
   "cell_type": "code",
   "execution_count": null,
   "metadata": {},
   "outputs": [],
   "source": []
  },
  {
   "cell_type": "code",
   "execution_count": 23,
   "metadata": {},
   "outputs": [
    {
     "data": {
      "text/plain": [
       "InvoiceNo       332730\n",
       "CustomerCode    123733\n",
       "Amount          143450\n",
       "dtype: int64"
      ]
     },
     "execution_count": 23,
     "metadata": {},
     "output_type": "execute_result"
    }
   ],
   "source": [
    "strangers = df[['InvoiceNo', 'CustomerCode', 'Amount']]\n",
    "strangers.groupby('InvoiceNo')['CustomerCode']\n",
    "strangers.nunique()"
   ]
  },
  {
   "cell_type": "code",
   "execution_count": 24,
   "metadata": {},
   "outputs": [
    {
     "data": {
      "text/html": [
       "<div>\n",
       "<style scoped>\n",
       "    .dataframe tbody tr th:only-of-type {\n",
       "        vertical-align: middle;\n",
       "    }\n",
       "\n",
       "    .dataframe tbody tr th {\n",
       "        vertical-align: top;\n",
       "    }\n",
       "\n",
       "    .dataframe thead th {\n",
       "        text-align: right;\n",
       "    }\n",
       "</style>\n",
       "<table border=\"1\" class=\"dataframe\">\n",
       "  <thead>\n",
       "    <tr style=\"text-align: right;\">\n",
       "      <th></th>\n",
       "      <th>CustomerCode</th>\n",
       "      <th>recency</th>\n",
       "      <th>frequency</th>\n",
       "      <th>monetary_value</th>\n",
       "    </tr>\n",
       "  </thead>\n",
       "  <tbody>\n",
       "    <tr>\n",
       "      <th>0</th>\n",
       "      <td>02213019</td>\n",
       "      <td>19</td>\n",
       "      <td>1</td>\n",
       "      <td>1609.20</td>\n",
       "    </tr>\n",
       "    <tr>\n",
       "      <th>1</th>\n",
       "      <td>02213042</td>\n",
       "      <td>22</td>\n",
       "      <td>3</td>\n",
       "      <td>9685.48</td>\n",
       "    </tr>\n",
       "    <tr>\n",
       "      <th>2</th>\n",
       "      <td>02213071</td>\n",
       "      <td>29</td>\n",
       "      <td>1</td>\n",
       "      <td>415.00</td>\n",
       "    </tr>\n",
       "    <tr>\n",
       "      <th>3</th>\n",
       "      <td>02213088</td>\n",
       "      <td>23</td>\n",
       "      <td>1</td>\n",
       "      <td>305.00</td>\n",
       "    </tr>\n",
       "    <tr>\n",
       "      <th>4</th>\n",
       "      <td>02213092</td>\n",
       "      <td>25</td>\n",
       "      <td>1</td>\n",
       "      <td>1412.88</td>\n",
       "    </tr>\n",
       "    <tr>\n",
       "      <th>...</th>\n",
       "      <td>...</td>\n",
       "      <td>...</td>\n",
       "      <td>...</td>\n",
       "      <td>...</td>\n",
       "    </tr>\n",
       "    <tr>\n",
       "      <th>123728</th>\n",
       "      <td>99099927</td>\n",
       "      <td>10</td>\n",
       "      <td>1</td>\n",
       "      <td>961.10</td>\n",
       "    </tr>\n",
       "    <tr>\n",
       "      <th>123729</th>\n",
       "      <td>99099936</td>\n",
       "      <td>0</td>\n",
       "      <td>1</td>\n",
       "      <td>1521.78</td>\n",
       "    </tr>\n",
       "    <tr>\n",
       "      <th>123730</th>\n",
       "      <td>99099959</td>\n",
       "      <td>8</td>\n",
       "      <td>2</td>\n",
       "      <td>1444.56</td>\n",
       "    </tr>\n",
       "    <tr>\n",
       "      <th>123731</th>\n",
       "      <td>99099963</td>\n",
       "      <td>19</td>\n",
       "      <td>1</td>\n",
       "      <td>3018.91</td>\n",
       "    </tr>\n",
       "    <tr>\n",
       "      <th>123732</th>\n",
       "      <td>99099972</td>\n",
       "      <td>0</td>\n",
       "      <td>2</td>\n",
       "      <td>4577.37</td>\n",
       "    </tr>\n",
       "  </tbody>\n",
       "</table>\n",
       "<p>123733 rows × 4 columns</p>\n",
       "</div>"
      ],
      "text/plain": [
       "       CustomerCode  recency  frequency  monetary_value\n",
       "0          02213019       19          1         1609.20\n",
       "1          02213042       22          3         9685.48\n",
       "2          02213071       29          1          415.00\n",
       "3          02213088       23          1          305.00\n",
       "4          02213092       25          1         1412.88\n",
       "...             ...      ...        ...             ...\n",
       "123728     99099927       10          1          961.10\n",
       "123729     99099936        0          1         1521.78\n",
       "123730     99099959        8          2         1444.56\n",
       "123731     99099963       19          1         3018.91\n",
       "123732     99099972        0          2         4577.37\n",
       "\n",
       "[123733 rows x 4 columns]"
      ]
     },
     "execution_count": 24,
     "metadata": {},
     "output_type": "execute_result"
    }
   ],
   "source": [
    "# Создаём RFM-таблицу\n",
    "\n",
    "rfm_table=df.groupby('CustomerCode',as_index=False).agg({'InvoiceDate':lambda x: (last_date-x.max()).days,\n",
    "                                         'InvoiceNo':lambda x:len(x),\n",
    "                                         'Amount':lambda x:x.sum()})\n",
    "\n",
    "\n",
    "rfm_table['InvoiceDate'] = rfm_table['InvoiceDate'].astype(int)\n",
    "\n",
    "\n",
    "rfm_table=rfm_table.rename(columns={'InvoiceDate':'recency',\n",
    "                         'InvoiceNo':'frequency',\n",
    "                         'Amount':'monetary_value'})\n",
    "\n",
    "rfm_table"
   ]
  },
  {
   "cell_type": "code",
   "execution_count": 25,
   "metadata": {},
   "outputs": [
    {
     "name": "stdout",
     "output_type": "stream",
     "text": [
      "<class 'pandas.core.frame.DataFrame'>\n",
      "Int64Index: 123733 entries, 0 to 123732\n",
      "Data columns (total 4 columns):\n",
      " #   Column          Non-Null Count   Dtype  \n",
      "---  ------          --------------   -----  \n",
      " 0   CustomerCode    123733 non-null  object \n",
      " 1   recency         123733 non-null  int64  \n",
      " 2   frequency       123733 non-null  int64  \n",
      " 3   monetary_value  123733 non-null  float64\n",
      "dtypes: float64(1), int64(2), object(1)\n",
      "memory usage: 4.7+ MB\n"
     ]
    }
   ],
   "source": [
    "rfm_table.info()"
   ]
  },
  {
   "cell_type": "code",
   "execution_count": 26,
   "metadata": {},
   "outputs": [
    {
     "data": {
      "text/html": [
       "<div>\n",
       "<style scoped>\n",
       "    .dataframe tbody tr th:only-of-type {\n",
       "        vertical-align: middle;\n",
       "    }\n",
       "\n",
       "    .dataframe tbody tr th {\n",
       "        vertical-align: top;\n",
       "    }\n",
       "\n",
       "    .dataframe thead th {\n",
       "        text-align: right;\n",
       "    }\n",
       "</style>\n",
       "<table border=\"1\" class=\"dataframe\">\n",
       "  <thead>\n",
       "    <tr style=\"text-align: right;\">\n",
       "      <th></th>\n",
       "      <th>recency</th>\n",
       "      <th>frequency</th>\n",
       "      <th>monetary_value</th>\n",
       "    </tr>\n",
       "  </thead>\n",
       "  <tbody>\n",
       "    <tr>\n",
       "      <th>0.25</th>\n",
       "      <td>2.0</td>\n",
       "      <td>1.0</td>\n",
       "      <td>765.00</td>\n",
       "    </tr>\n",
       "    <tr>\n",
       "      <th>0.50</th>\n",
       "      <td>8.0</td>\n",
       "      <td>2.0</td>\n",
       "      <td>1834.48</td>\n",
       "    </tr>\n",
       "    <tr>\n",
       "      <th>0.75</th>\n",
       "      <td>16.0</td>\n",
       "      <td>3.0</td>\n",
       "      <td>4008.84</td>\n",
       "    </tr>\n",
       "  </tbody>\n",
       "</table>\n",
       "</div>"
      ],
      "text/plain": [
       "      recency  frequency  monetary_value\n",
       "0.25      2.0        1.0          765.00\n",
       "0.50      8.0        2.0         1834.48\n",
       "0.75     16.0        3.0         4008.84"
      ]
     },
     "execution_count": 26,
     "metadata": {},
     "output_type": "execute_result"
    }
   ],
   "source": [
    "# Рассчитаем квантили\n",
    "\n",
    "quantiles=rfm_table.quantile(q=(0.25,0.5,0.75))\n",
    "quantiles"
   ]
  },
  {
   "cell_type": "code",
   "execution_count": 27,
   "metadata": {},
   "outputs": [],
   "source": [
    "# Разобьём пользователей на классы"
   ]
  },
  {
   "cell_type": "code",
   "execution_count": 28,
   "metadata": {},
   "outputs": [],
   "source": [
    "def Rclass(value, parameter_name, quantiles_table):\n",
    "    if value <= quantiles_table[parameter_name][0.25]:\n",
    "        return 1\n",
    "    elif value <= quantiles_table[parameter_name][0.5]:\n",
    "        return 2\n",
    "    elif value <= quantiles_table[parameter_name][0.75]:\n",
    "        return 3\n",
    "    else:\n",
    "        return 4"
   ]
  },
  {
   "cell_type": "code",
   "execution_count": 29,
   "metadata": {},
   "outputs": [],
   "source": [
    "def FMclass(value, parameter_name, quantiles_table):\n",
    "    if value <= quantiles_table[parameter_name][0.25]:\n",
    "        return 4\n",
    "    elif value <= quantiles_table[parameter_name][0.5]:\n",
    "        return 3\n",
    "    elif value <= quantiles_table[parameter_name][0.75]:\n",
    "        return 2\n",
    "    else:\n",
    "        return 1"
   ]
  },
  {
   "cell_type": "code",
   "execution_count": 30,
   "metadata": {},
   "outputs": [],
   "source": [
    "rfm_segmentation=rfm_table"
   ]
  },
  {
   "cell_type": "code",
   "execution_count": 31,
   "metadata": {},
   "outputs": [],
   "source": [
    "rfm_segmentation['R_quantile']=rfm_segmentation['recency'].apply(Rclass,args=('recency', quantiles))\n",
    "rfm_segmentation['F_quantile']=rfm_segmentation['frequency'].apply(FMclass,args=('frequency', quantiles))\n",
    "rfm_segmentation['M_quantile']=rfm_segmentation['monetary_value'].apply(FMclass,args=('monetary_value', quantiles))\n",
    "rfm_segmentation['RFM_class']=rfm_segmentation['R_quantile'].map(str)\\\n",
    "                             +rfm_segmentation['F_quantile'].map(str)\\\n",
    "                             +rfm_segmentation['M_quantile'].map(str)"
   ]
  },
  {
   "cell_type": "code",
   "execution_count": 32,
   "metadata": {},
   "outputs": [
    {
     "data": {
      "text/html": [
       "<div>\n",
       "<style scoped>\n",
       "    .dataframe tbody tr th:only-of-type {\n",
       "        vertical-align: middle;\n",
       "    }\n",
       "\n",
       "    .dataframe tbody tr th {\n",
       "        vertical-align: top;\n",
       "    }\n",
       "\n",
       "    .dataframe thead th {\n",
       "        text-align: right;\n",
       "    }\n",
       "</style>\n",
       "<table border=\"1\" class=\"dataframe\">\n",
       "  <thead>\n",
       "    <tr style=\"text-align: right;\">\n",
       "      <th></th>\n",
       "      <th>CustomerCode</th>\n",
       "      <th>recency</th>\n",
       "      <th>frequency</th>\n",
       "      <th>monetary_value</th>\n",
       "      <th>R_quantile</th>\n",
       "      <th>F_quantile</th>\n",
       "      <th>M_quantile</th>\n",
       "      <th>RFM_class</th>\n",
       "    </tr>\n",
       "  </thead>\n",
       "  <tbody>\n",
       "    <tr>\n",
       "      <th>0</th>\n",
       "      <td>02213019</td>\n",
       "      <td>19</td>\n",
       "      <td>1</td>\n",
       "      <td>1609.20</td>\n",
       "      <td>4</td>\n",
       "      <td>4</td>\n",
       "      <td>3</td>\n",
       "      <td>443</td>\n",
       "    </tr>\n",
       "    <tr>\n",
       "      <th>1</th>\n",
       "      <td>02213042</td>\n",
       "      <td>22</td>\n",
       "      <td>3</td>\n",
       "      <td>9685.48</td>\n",
       "      <td>4</td>\n",
       "      <td>2</td>\n",
       "      <td>1</td>\n",
       "      <td>421</td>\n",
       "    </tr>\n",
       "    <tr>\n",
       "      <th>2</th>\n",
       "      <td>02213071</td>\n",
       "      <td>29</td>\n",
       "      <td>1</td>\n",
       "      <td>415.00</td>\n",
       "      <td>4</td>\n",
       "      <td>4</td>\n",
       "      <td>4</td>\n",
       "      <td>444</td>\n",
       "    </tr>\n",
       "    <tr>\n",
       "      <th>3</th>\n",
       "      <td>02213088</td>\n",
       "      <td>23</td>\n",
       "      <td>1</td>\n",
       "      <td>305.00</td>\n",
       "      <td>4</td>\n",
       "      <td>4</td>\n",
       "      <td>4</td>\n",
       "      <td>444</td>\n",
       "    </tr>\n",
       "    <tr>\n",
       "      <th>4</th>\n",
       "      <td>02213092</td>\n",
       "      <td>25</td>\n",
       "      <td>1</td>\n",
       "      <td>1412.88</td>\n",
       "      <td>4</td>\n",
       "      <td>4</td>\n",
       "      <td>3</td>\n",
       "      <td>443</td>\n",
       "    </tr>\n",
       "  </tbody>\n",
       "</table>\n",
       "</div>"
      ],
      "text/plain": [
       "  CustomerCode  recency  frequency  monetary_value  R_quantile  F_quantile  \\\n",
       "0     02213019       19          1         1609.20           4           4   \n",
       "1     02213042       22          3         9685.48           4           2   \n",
       "2     02213071       29          1          415.00           4           4   \n",
       "3     02213088       23          1          305.00           4           4   \n",
       "4     02213092       25          1         1412.88           4           4   \n",
       "\n",
       "   M_quantile RFM_class  \n",
       "0           3       443  \n",
       "1           1       421  \n",
       "2           4       444  \n",
       "3           4       444  \n",
       "4           3       443  "
      ]
     },
     "execution_count": 32,
     "metadata": {},
     "output_type": "execute_result"
    }
   ],
   "source": [
    "rfm_segmentation.head()"
   ]
  },
  {
   "cell_type": "code",
   "execution_count": 33,
   "metadata": {},
   "outputs": [
    {
     "data": {
      "text/plain": [
       "765.0"
      ]
     },
     "execution_count": 33,
     "metadata": {},
     "output_type": "execute_result"
    }
   ],
   "source": [
    "# Верхняя граница у суммы покупок у пользователей с классом 4 в подсегменте М?\n",
    "\n",
    "rfm_segmentation.query('M_quantile==4').monetary_value.max()"
   ]
  },
  {
   "cell_type": "code",
   "execution_count": 34,
   "metadata": {},
   "outputs": [
    {
     "data": {
      "text/plain": [
       "4"
      ]
     },
     "execution_count": 34,
     "metadata": {},
     "output_type": "execute_result"
    }
   ],
   "source": [
    "# нижняя граница у количества покупок у пользователей с классом 1 в подсегменте F\n",
    "\n",
    "rfm_segmentation.query('F_quantile==1').frequency.min()"
   ]
  },
  {
   "cell_type": "code",
   "execution_count": 35,
   "metadata": {},
   "outputs": [
    {
     "data": {
      "text/plain": [
       "8"
      ]
     },
     "execution_count": 35,
     "metadata": {},
     "output_type": "execute_result"
    }
   ],
   "source": [
    "# Какое максимальное количество дней может пройти с момента последней покупки для того, \n",
    "# чтобы пользователь попал в класс 2 в подсегменте R?\n",
    "\n",
    "rfm_segmentation.query('R_quantile==2').recency.max()"
   ]
  },
  {
   "cell_type": "code",
   "execution_count": 36,
   "metadata": {},
   "outputs": [
    {
     "data": {
      "text/plain": [
       "9705"
      ]
     },
     "execution_count": 36,
     "metadata": {},
     "output_type": "execute_result"
    }
   ],
   "source": [
    "# Сколько пользователей попало в сегмент 111?\n",
    "\n",
    "rfm_segmentation.query('RFM_class==\"111\"').CustomerCode.count()\n",
    "# rfm_segmentation[rfm_segmentation.RFM_class == '111'].shape[0]"
   ]
  },
  {
   "cell_type": "code",
   "execution_count": 40,
   "metadata": {},
   "outputs": [
    {
     "data": {
      "text/plain": [
       "1609"
      ]
     },
     "execution_count": 40,
     "metadata": {},
     "output_type": "execute_result"
    }
   ],
   "source": [
    "# Сколько пользователей попало в сегмент 311?\n",
    "\n",
    "rfm_segmentation.query('RFM_class==\"311\"').CustomerCode.count()\n",
    "#rfm_segmentation[rfm_segmentation.RFM_class == '311'].shape[0]"
   ]
  },
  {
   "cell_type": "code",
   "execution_count": 41,
   "metadata": {},
   "outputs": [
    {
     "data": {
      "text/html": [
       "<div>\n",
       "<style scoped>\n",
       "    .dataframe tbody tr th:only-of-type {\n",
       "        vertical-align: middle;\n",
       "    }\n",
       "\n",
       "    .dataframe tbody tr th {\n",
       "        vertical-align: top;\n",
       "    }\n",
       "\n",
       "    .dataframe thead th {\n",
       "        text-align: right;\n",
       "    }\n",
       "</style>\n",
       "<table border=\"1\" class=\"dataframe\">\n",
       "  <thead>\n",
       "    <tr style=\"text-align: right;\">\n",
       "      <th></th>\n",
       "      <th>CustomerCode</th>\n",
       "    </tr>\n",
       "    <tr>\n",
       "      <th>RFM_class</th>\n",
       "      <th></th>\n",
       "    </tr>\n",
       "  </thead>\n",
       "  <tbody>\n",
       "    <tr>\n",
       "      <th>444</th>\n",
       "      <td>10624</td>\n",
       "    </tr>\n",
       "    <tr>\n",
       "      <th>111</th>\n",
       "      <td>9705</td>\n",
       "    </tr>\n",
       "    <tr>\n",
       "      <th>443</th>\n",
       "      <td>6729</td>\n",
       "    </tr>\n",
       "    <tr>\n",
       "      <th>344</th>\n",
       "      <td>6593</td>\n",
       "    </tr>\n",
       "    <tr>\n",
       "      <th>211</th>\n",
       "      <td>5847</td>\n",
       "    </tr>\n",
       "  </tbody>\n",
       "</table>\n",
       "</div>"
      ],
      "text/plain": [
       "           CustomerCode\n",
       "RFM_class              \n",
       "444               10624\n",
       "111                9705\n",
       "443                6729\n",
       "344                6593\n",
       "211                5847"
      ]
     },
     "execution_count": 41,
     "metadata": {},
     "output_type": "execute_result"
    }
   ],
   "source": [
    "# В каком RFM-сегменте самое большое кол-во пользователей?\n",
    "\n",
    "rfm_segmentation.groupby('RFM_class').agg({'CustomerCode':'count'})\\\n",
    ".sort_values('CustomerCode', ascending = False).head()"
   ]
  },
  {
   "cell_type": "code",
   "execution_count": 42,
   "metadata": {},
   "outputs": [
    {
     "data": {
      "text/html": [
       "<div>\n",
       "<style scoped>\n",
       "    .dataframe tbody tr th:only-of-type {\n",
       "        vertical-align: middle;\n",
       "    }\n",
       "\n",
       "    .dataframe tbody tr th {\n",
       "        vertical-align: top;\n",
       "    }\n",
       "\n",
       "    .dataframe thead th {\n",
       "        text-align: right;\n",
       "    }\n",
       "</style>\n",
       "<table border=\"1\" class=\"dataframe\">\n",
       "  <thead>\n",
       "    <tr style=\"text-align: right;\">\n",
       "      <th></th>\n",
       "      <th>CustomerCode</th>\n",
       "    </tr>\n",
       "    <tr>\n",
       "      <th>RFM_class</th>\n",
       "      <th></th>\n",
       "    </tr>\n",
       "  </thead>\n",
       "  <tbody>\n",
       "    <tr>\n",
       "      <th>414</th>\n",
       "      <td>2</td>\n",
       "    </tr>\n",
       "    <tr>\n",
       "      <th>314</th>\n",
       "      <td>33</td>\n",
       "    </tr>\n",
       "    <tr>\n",
       "      <th>114</th>\n",
       "      <td>60</td>\n",
       "    </tr>\n",
       "    <tr>\n",
       "      <th>214</th>\n",
       "      <td>60</td>\n",
       "    </tr>\n",
       "    <tr>\n",
       "      <th>424</th>\n",
       "      <td>63</td>\n",
       "    </tr>\n",
       "  </tbody>\n",
       "</table>\n",
       "</div>"
      ],
      "text/plain": [
       "           CustomerCode\n",
       "RFM_class              \n",
       "414                   2\n",
       "314                  33\n",
       "114                  60\n",
       "214                  60\n",
       "424                  63"
      ]
     },
     "execution_count": 42,
     "metadata": {},
     "output_type": "execute_result"
    }
   ],
   "source": [
    "# В каком RFM-сегменте самое маленькое кол-во пользователей?\n",
    "# Какое количество пользователей попало в самый малочисленный сегмент?\n",
    "\n",
    "rfm_segmentation.groupby('RFM_class').agg({'CustomerCode':'count'})\\\n",
    ".sort_values('CustomerCode').head()"
   ]
  },
  {
   "cell_type": "code",
   "execution_count": 46,
   "metadata": {},
   "outputs": [],
   "source": [
    "import numpy as np\n",
    "import seaborn as sns"
   ]
  },
  {
   "cell_type": "code",
   "execution_count": 47,
   "metadata": {},
   "outputs": [
    {
     "data": {
      "image/png": "[encoded data removed]",
      "text/plain": [
       "<Figure size 432x288 with 2 Axes>"
      ]
     },
     "metadata": {
      "needs_background": "light"
     },
     "output_type": "display_data"
    }
   ],
   "source": [
    "# Heatmap code from KK lecture\n",
    "\n",
    "rfm_table = rfm_segmentation.pivot_table(\n",
    "                        index='R_quantile', \n",
    "                        columns='F_quantile', \n",
    "                        values='monetary_value', \n",
    "                        aggfunc=np.median).applymap(int)\n",
    "sns.heatmap(rfm_table, cmap=\"YlGnBu\", annot=True, fmt=\".0f\", linewidths=4.15, annot_kws={\"size\": 10},yticklabels=4);"
   ]
  },
  {
   "cell_type": "code",
   "execution_count": null,
   "metadata": {},
   "outputs": [],
   "source": [
    "# 414, 2"
   ]
  }
 ],
 "metadata": {
  "kernelspec": {
   "display_name": "Python 3",
   "language": "python",
   "name": "python3"
  },
  "language_info": {
   "codemirror_mode": {
    "name": "ipython",
    "version": 3
   },
   "file_extension": ".py",
   "mimetype": "text/x-python",
   "name": "python",
   "nbconvert_exporter": "python",
   "pygments_lexer": "ipython3",
   "version": "3.7.3"
  }
 },
 "nbformat": 4,
 "nbformat_minor": 4
}
